{
 "cells": [
  {
   "cell_type": "markdown",
   "metadata": {},
   "source": [
    "Importing the essential libraries"
   ]
  },
  {
   "cell_type": "code",
   "execution_count": 1,
   "metadata": {},
   "outputs": [],
   "source": [
    "import pandas as pd\n",
    "import numpy as np\n",
    "import matplotlib.pyplot as plt"
   ]
  },
  {
   "cell_type": "markdown",
   "metadata": {},
   "source": [
    "Importing the dataset"
   ]
  },
  {
   "cell_type": "code",
   "execution_count": 4,
   "metadata": {},
   "outputs": [],
   "source": [
    "dataset = pd.read_csv(\"groceries.csv\")"
   ]
  },
  {
   "cell_type": "markdown",
   "metadata": {},
   "source": [
    "Data Preprocessing"
   ]
  },
  {
   "cell_type": "code",
   "execution_count": 5,
   "metadata": {},
   "outputs": [],
   "source": [
    "transactions  = []\n",
    "for i in range(0,7501):\n",
    "    transactions.append([str(dataset.values[i,j]) for j in range(20)])"
   ]
  },
  {
   "cell_type": "markdown",
   "metadata": {},
   "source": [
    "Implementing the Apriori Model"
   ]
  },
  {
   "cell_type": "code",
   "execution_count": 9,
   "metadata": {},
   "outputs": [
    {
     "name": "stdout",
     "output_type": "stream",
     "text": [
      "Done with the training of apriori\n"
     ]
    }
   ],
   "source": [
    "def inspect(results):\n",
    "    lhs         = [tuple(result[2][0][0])[0] for result in results]\n",
    "    rhs         = [tuple(result[2][0][1])[0] for result in results]\n",
    "    supports    = [result[1] for result in results]\n",
    "    confidences = [result[2][0][2] for result in results]\n",
    "    lifts       = [result[2][0][3] for result in results]\n",
    "    return list(zip(lhs, rhs, supports, confidences, lifts))"
   ]
  },
  {
   "cell_type": "code",
   "execution_count": 47,
   "metadata": {},
   "outputs": [
    {
     "name": "stdout",
     "output_type": "stream",
     "text": [
      "Done with the training of apriori\n"
     ]
    }
   ],
   "source": [
    "from apyori import apriori\n",
    "rules = apriori(transactions = transactions, min_support = 0.009, min_confidence=0.3,min_lift=3,min_length=3,max_length=2)\n",
    "print(\"Done with the training of apriori\")\n",
    "results = list(rules)\n",
    "resultsinDataFrame = pd.DataFrame(inspect(results), columns = ['Left Hand Side', 'Right Hand Side', 'Support', 'Confidence', 'Lift'])"
   ]
  },
  {
   "cell_type": "code",
   "execution_count": 48,
   "metadata": {},
   "outputs": [
    {
     "data": {
      "text/html": [
       "<div>\n",
       "<style scoped>\n",
       "    .dataframe tbody tr th:only-of-type {\n",
       "        vertical-align: middle;\n",
       "    }\n",
       "\n",
       "    .dataframe tbody tr th {\n",
       "        vertical-align: top;\n",
       "    }\n",
       "\n",
       "    .dataframe thead th {\n",
       "        text-align: right;\n",
       "    }\n",
       "</style>\n",
       "<table border=\"1\" class=\"dataframe\">\n",
       "  <thead>\n",
       "    <tr style=\"text-align: right;\">\n",
       "      <th></th>\n",
       "      <th>Left Hand Side</th>\n",
       "      <th>Right Hand Side</th>\n",
       "      <th>Support</th>\n",
       "      <th>Confidence</th>\n",
       "      <th>Lift</th>\n",
       "    </tr>\n",
       "  </thead>\n",
       "  <tbody>\n",
       "    <tr>\n",
       "      <th>0</th>\n",
       "      <td>bottled water</td>\n",
       "      <td>soda</td>\n",
       "      <td>0.019331</td>\n",
       "      <td>0.300207</td>\n",
       "      <td>3.149445</td>\n",
       "    </tr>\n",
       "    <tr>\n",
       "      <th>1</th>\n",
       "      <td>butter</td>\n",
       "      <td>whole milk</td>\n",
       "      <td>0.012532</td>\n",
       "      <td>0.502674</td>\n",
       "      <td>7.938013</td>\n",
       "    </tr>\n",
       "    <tr>\n",
       "      <th>2</th>\n",
       "      <td>cream cheese</td>\n",
       "      <td>yogurt</td>\n",
       "      <td>0.009332</td>\n",
       "      <td>0.384615</td>\n",
       "      <td>6.285403</td>\n",
       "    </tr>\n",
       "    <tr>\n",
       "      <th>3</th>\n",
       "      <td>curd</td>\n",
       "      <td>yogurt</td>\n",
       "      <td>0.010399</td>\n",
       "      <td>0.433333</td>\n",
       "      <td>7.081554</td>\n",
       "    </tr>\n",
       "    <tr>\n",
       "      <th>4</th>\n",
       "      <td>domestic eggs</td>\n",
       "      <td>whole milk</td>\n",
       "      <td>0.013598</td>\n",
       "      <td>0.313846</td>\n",
       "      <td>4.956126</td>\n",
       "    </tr>\n",
       "    <tr>\n",
       "      <th>5</th>\n",
       "      <td>root vegetables</td>\n",
       "      <td>other vegetables</td>\n",
       "      <td>0.011065</td>\n",
       "      <td>0.624060</td>\n",
       "      <td>13.298509</td>\n",
       "    </tr>\n",
       "    <tr>\n",
       "      <th>6</th>\n",
       "      <td>other vegetables</td>\n",
       "      <td>whole milk</td>\n",
       "      <td>0.023597</td>\n",
       "      <td>0.502841</td>\n",
       "      <td>7.940652</td>\n",
       "    </tr>\n",
       "    <tr>\n",
       "      <th>7</th>\n",
       "      <td>other vegetables</td>\n",
       "      <td>yogurt</td>\n",
       "      <td>0.016131</td>\n",
       "      <td>0.343750</td>\n",
       "      <td>5.617579</td>\n",
       "    </tr>\n",
       "    <tr>\n",
       "      <th>8</th>\n",
       "      <td>root vegetables</td>\n",
       "      <td>whole milk</td>\n",
       "      <td>0.010665</td>\n",
       "      <td>0.601504</td>\n",
       "      <td>9.498694</td>\n",
       "    </tr>\n",
       "    <tr>\n",
       "      <th>9</th>\n",
       "      <td>whipped/sour cream</td>\n",
       "      <td>whole milk</td>\n",
       "      <td>0.015331</td>\n",
       "      <td>0.367412</td>\n",
       "      <td>5.802018</td>\n",
       "    </tr>\n",
       "    <tr>\n",
       "      <th>10</th>\n",
       "      <td>whipped/sour cream</td>\n",
       "      <td>yogurt</td>\n",
       "      <td>0.015198</td>\n",
       "      <td>0.364217</td>\n",
       "      <td>5.952056</td>\n",
       "    </tr>\n",
       "    <tr>\n",
       "      <th>11</th>\n",
       "      <td>whole milk</td>\n",
       "      <td>yogurt</td>\n",
       "      <td>0.022130</td>\n",
       "      <td>0.349474</td>\n",
       "      <td>5.711116</td>\n",
       "    </tr>\n",
       "  </tbody>\n",
       "</table>\n",
       "</div>"
      ],
      "text/plain": [
       "        Left Hand Side   Right Hand Side   Support  Confidence       Lift\n",
       "0        bottled water              soda  0.019331    0.300207   3.149445\n",
       "1               butter        whole milk  0.012532    0.502674   7.938013\n",
       "2         cream cheese            yogurt  0.009332    0.384615   6.285403\n",
       "3                 curd            yogurt  0.010399    0.433333   7.081554\n",
       "4        domestic eggs        whole milk  0.013598    0.313846   4.956126\n",
       "5      root vegetables  other vegetables  0.011065    0.624060  13.298509\n",
       "6     other vegetables        whole milk  0.023597    0.502841   7.940652\n",
       "7     other vegetables            yogurt  0.016131    0.343750   5.617579\n",
       "8      root vegetables        whole milk  0.010665    0.601504   9.498694\n",
       "9   whipped/sour cream        whole milk  0.015331    0.367412   5.802018\n",
       "10  whipped/sour cream            yogurt  0.015198    0.364217   5.952056\n",
       "11          whole milk            yogurt  0.022130    0.349474   5.711116"
      ]
     },
     "execution_count": 48,
     "metadata": {},
     "output_type": "execute_result"
    }
   ],
   "source": [
    "resultsinDataFrame"
   ]
  }
 ],
 "metadata": {
  "interpreter": {
   "hash": "69c984db74977a6d0dcce08fc83f8092db7d419f7c31c4078b443bcd1ed617be"
  },
  "kernelspec": {
   "display_name": "Python 3.9.7 64-bit",
   "language": "python",
   "name": "python3"
  },
  "language_info": {
   "codemirror_mode": {
    "name": "ipython",
    "version": 3
   },
   "file_extension": ".py",
   "mimetype": "text/x-python",
   "name": "python",
   "nbconvert_exporter": "python",
   "pygments_lexer": "ipython3",
   "version": "3.9.7"
  },
  "orig_nbformat": 4
 },
 "nbformat": 4,
 "nbformat_minor": 2
}
